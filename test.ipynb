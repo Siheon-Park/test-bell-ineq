{
 "cells": [
  {
   "cell_type": "code",
   "execution_count": 184,
   "metadata": {},
   "outputs": [],
   "source": [
    "from qiskit.quantum_info import Pauli, Operator, DensityMatrix, Statevector\n",
    "from qiskit import QuantumCircuit, transpile, QuantumRegister, ClassicalRegister\n",
    "import numpy as np\n",
    "\n",
    "IPSTATE = Statevector([1/np.sqrt(2), 1j*1/np.sqrt(2)])\n",
    "IMSTATE = Statevector([1/np.sqrt(2), -1j*1/np.sqrt(2)])\n",
    "_qc_ = QuantumCircuit(2, name='Bell Op')\n",
    "_qc_.cnot(0, 1)\n",
    "_qc_.h(0)\n",
    "BELL_MEAS_OP = Operator(_qc_)"
   ]
  },
  {
   "cell_type": "code",
   "execution_count": 185,
   "metadata": {},
   "outputs": [
    {
     "name": "stdout",
     "output_type": "stream",
     "text": [
      "(2.8284271247461894+0j)\n",
      "(2.8284271247461894+0j)\n",
      "(2.8284271247461894+0j)\n"
     ]
    },
    {
     "data": {
      "text/plain": [
       "(8.48528137423857+0j)"
      ]
     },
     "execution_count": 185,
     "metadata": {},
     "output_type": "execute_result"
    }
   ],
   "source": [
    "from itertools import product\n",
    "\n",
    "PAULI_OPS = [Operator(Pauli('I')), Operator(Pauli('X')), Operator(Pauli('Y')), Operator(Pauli('Z'))]\n",
    "I, X, Y, Z = PAULI_OPS\n",
    "PHI_P = 1/np.sqrt(2)*(Statevector.from_label('00')+Statevector.from_label('11'))\n",
    "PHI_M = 1/np.sqrt(2)*(Statevector.from_label('00')-Statevector.from_label('11'))\n",
    "PSI_P = 1/np.sqrt(2)*(Statevector.from_label('10')+Statevector.from_label('01'))\n",
    "PSI_M = 1/np.sqrt(2)*(Statevector.from_label('10')-Statevector.from_label('01'))\n",
    "\n",
    "\n",
    "def A(x):\n",
    "    if x==0:\n",
    "        O=Z\n",
    "    if x==1:\n",
    "        O=X\n",
    "    if x==2:\n",
    "        O=Y\n",
    "    return O\n",
    "\n",
    "def C(z):\n",
    "    if z==0:\n",
    "        D = Z+X\n",
    "    if z==1:\n",
    "        D = Z-X\n",
    "    if z==2:\n",
    "        D = Z+Y\n",
    "    if z==3:\n",
    "        D = Z-Y\n",
    "    if z==4:\n",
    "        D = X+Y\n",
    "    if z==5:\n",
    "        D = X-Y\n",
    "    D = 1/np.sqrt(2)*D\n",
    "    return D\n",
    "\n",
    "def CHSHOperator(initial_state:DensityMatrix=None, xvals=None, zvals=None, weight=[1, 1, 1, -1]):\n",
    "    values = []\n",
    "    for x in xvals:\n",
    "        for z in zvals:\n",
    "            values.append(initial_state.expectation_value(A(x).tensor(C(z)), qargs=(0, 1)))\n",
    "    return sum(np.array(weight)*np.array(values))\n",
    "\n",
    "state = DensityMatrix(PHI_P)\n",
    "print(CHSHOperator(state, zvals=(0, 1), xvals=(0, 1)))\n",
    "state = DensityMatrix(PHI_M)\n",
    "print(CHSHOperator(state, zvals=(2, 3), xvals=(0, 2)))\n",
    "state = DensityMatrix(PSI_P)\n",
    "print(CHSHOperator(state, zvals=(4, 5), xvals=(1, 2)))\n",
    "\n",
    "def CHSH3Operator(initial_state:DensityMatrix=None):\n",
    "    state = initial_state.evolve(BELL_MEAS_OP, qargs=(2, 3))\n",
    "    b, state = state.measure((2, 3))\n",
    "    ret = 0\n",
    "    ret += CHSHOperator(state, xvals=(0, 1), zvals=(0, 1), weight=[(-1)**int(b[0]), (-1)**int(b[0]), (-1)**int(b[1]), -(-1)**int(b[1])])\n",
    "    ret += CHSHOperator(state, xvals=(0, 2), zvals=(2, 3), weight=[(-1)**int(b[0]), (-1)**int(b[0]), -(-1)**(int(b[1])+int(b[0])), (-1)**(int(b[1])+int(b[0]))])\n",
    "    ret += CHSHOperator(state, xvals=(1, 2), zvals=(4, 5), weight=[(-1)**int(b[1]), (-1)**int(b[1]), -(-1)**(int(b[1])+int(b[0])), (-1)**(int(b[1])+int(b[0]))])\n",
    "    return ret\n",
    "\n",
    "qc = QuantumCircuit(4)\n",
    "qc.h(0)\n",
    "qc.h(1)\n",
    "qc.cx(0, 2)\n",
    "qc.cx(1, 3)\n",
    "state = DensityMatrix.from_instruction(qc)\n",
    "CHSH3Operator(state)\n"
   ]
  },
  {
   "cell_type": "code",
   "execution_count": null,
   "metadata": {},
   "outputs": [],
   "source": [
    "from qiskit import QuantumCircuit, QuantumRegister, ClassicalRegister\n",
    "\n",
    "class CHSH_Circuit(object):\n",
    "    def __init__(self):\n",
    "        qa = QuantumRegister(1, 'alice')\n",
    "        qb = QuantumRegister(2, 'bob')\n",
    "        qc = QuantumRegister(1, 'chalie')\n",
    "        "
   ]
  },
  {
   "cell_type": "code",
   "execution_count": 188,
   "metadata": {},
   "outputs": [
    {
     "name": "stderr",
     "output_type": "stream",
     "text": [
      "/home/quic/anaconda3/envs/qiskit/lib/python3.9/site-packages/numpy/core/_asarray.py:102: ComplexWarning: Casting complex values to real discards the imaginary part\n",
      "  return array(a, dtype, copy=False, order=order)\n"
     ]
    },
    {
     "data": {
      "text/plain": [
       "[<matplotlib.lines.Line2D at 0x7f91781cd6a0>]"
      ]
     },
     "execution_count": 188,
     "metadata": {},
     "output_type": "execute_result"
    },
    {
     "data": {
      "image/png": "[encoded data removed]",
      "text/plain": [
       "<Figure size 432x288 with 1 Axes>"
      ]
     },
     "metadata": {
      "needs_background": "light"
     },
     "output_type": "display_data"
    }
   ],
   "source": [
    "from qiskit.circuit import Parameter\n",
    "theta = Parameter('theta')\n",
    "qc = QuantumCircuit(4)\n",
    "qc.ry(theta, 0)\n",
    "qc.ry(theta, 1)\n",
    "qc.cx(0, 2)\n",
    "qc.cx(1, 3)\n",
    "retval=[]\n",
    "thetas = np.linspace(0, 2*np.pi, 15)\n",
    "for t in thetas:\n",
    "    state = DensityMatrix.from_instruction(qc.assign_parameters({theta:t}))\n",
    "    retval.append(CHSH3Operator(state))\n",
    "\n",
    "import matplotlib.pyplot as plt \n",
    "plt.plot(thetas, retval)"
   ]
  },
  {
   "cell_type": "code",
   "execution_count": null,
   "metadata": {},
   "outputs": [],
   "source": []
  }
 ],
 "metadata": {
  "interpreter": {
   "hash": "bd569b419454c0a0019c09bece6d44cb1c2509ee45afef24a0823fc75b36fb0e"
  },
  "kernelspec": {
   "display_name": "Python 3.9.2 ('qiskit')",
   "language": "python",
   "name": "python3"
  },
  "language_info": {
   "codemirror_mode": {
    "name": "ipython",
    "version": 3
   },
   "file_extension": ".py",
   "mimetype": "text/x-python",
   "name": "python",
   "nbconvert_exporter": "python",
   "pygments_lexer": "ipython3",
   "version": "3.9.2"
  },
  "orig_nbformat": 4
 },
 "nbformat": 4,
 "nbformat_minor": 2
}
